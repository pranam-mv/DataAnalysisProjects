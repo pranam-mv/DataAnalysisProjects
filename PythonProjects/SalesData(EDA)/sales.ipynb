{
 "cells": [
  {
   "cell_type": "code",
   "execution_count": 1,
   "id": "20063590",
   "metadata": {},
   "outputs": [],
   "source": [
    "import pandas as pd\n",
    "import numpy as np\n",
    "import matplotlib.pyplot as plt\n",
    "import seaborn as sns"
   ]
  },
  {
   "cell_type": "code",
   "execution_count": 2,
   "id": "2d944612",
   "metadata": {},
   "outputs": [],
   "source": [
    "df=pd.read_excel(\"Data1.xlsx\")"
   ]
  },
  {
   "cell_type": "code",
   "execution_count": 3,
   "id": "a9913813",
   "metadata": {},
   "outputs": [
    {
     "data": {
      "text/html": [
       "<div>\n",
       "<style scoped>\n",
       "    .dataframe tbody tr th:only-of-type {\n",
       "        vertical-align: middle;\n",
       "    }\n",
       "\n",
       "    .dataframe tbody tr th {\n",
       "        vertical-align: top;\n",
       "    }\n",
       "\n",
       "    .dataframe thead th {\n",
       "        text-align: right;\n",
       "    }\n",
       "</style>\n",
       "<table border=\"1\" class=\"dataframe\">\n",
       "  <thead>\n",
       "    <tr style=\"text-align: right;\">\n",
       "      <th></th>\n",
       "      <th>Date</th>\n",
       "      <th>Region</th>\n",
       "      <th>Sales Rep</th>\n",
       "      <th>Customer</th>\n",
       "      <th>Product</th>\n",
       "      <th>COGS</th>\n",
       "      <th>Sales</th>\n",
       "    </tr>\n",
       "  </thead>\n",
       "  <tbody>\n",
       "    <tr>\n",
       "      <th>0</th>\n",
       "      <td>2004-06-17</td>\n",
       "      <td>MidWest</td>\n",
       "      <td>Harry</td>\n",
       "      <td>ExcelIsVeryFun.com</td>\n",
       "      <td>MWN Item</td>\n",
       "      <td>6305.0008</td>\n",
       "      <td>9272.06</td>\n",
       "    </tr>\n",
       "    <tr>\n",
       "      <th>1</th>\n",
       "      <td>2004-06-17</td>\n",
       "      <td>East</td>\n",
       "      <td>Harry</td>\n",
       "      <td>Office Depot</td>\n",
       "      <td>MBP Item</td>\n",
       "      <td>5773.2000</td>\n",
       "      <td>8490.00</td>\n",
       "    </tr>\n",
       "    <tr>\n",
       "      <th>2</th>\n",
       "      <td>2004-06-17</td>\n",
       "      <td>South</td>\n",
       "      <td>Harry</td>\n",
       "      <td>ExcelIsVeryFun.com</td>\n",
       "      <td>KVM Item</td>\n",
       "      <td>8271.4896</td>\n",
       "      <td>9399.42</td>\n",
       "    </tr>\n",
       "    <tr>\n",
       "      <th>3</th>\n",
       "      <td>2004-06-17</td>\n",
       "      <td>West</td>\n",
       "      <td>Jon</td>\n",
       "      <td>Sherman Williams</td>\n",
       "      <td>UBU Item</td>\n",
       "      <td>4919.6028</td>\n",
       "      <td>7234.71</td>\n",
       "    </tr>\n",
       "    <tr>\n",
       "      <th>4</th>\n",
       "      <td>2004-06-17</td>\n",
       "      <td>North</td>\n",
       "      <td>Harry</td>\n",
       "      <td>Whole Foods</td>\n",
       "      <td>HES Item</td>\n",
       "      <td>5838.1500</td>\n",
       "      <td>7784.20</td>\n",
       "    </tr>\n",
       "    <tr>\n",
       "      <th>...</th>\n",
       "      <td>...</td>\n",
       "      <td>...</td>\n",
       "      <td>...</td>\n",
       "      <td>...</td>\n",
       "      <td>...</td>\n",
       "      <td>...</td>\n",
       "      <td>...</td>\n",
       "    </tr>\n",
       "    <tr>\n",
       "      <th>1994</th>\n",
       "      <td>2006-06-14</td>\n",
       "      <td>East</td>\n",
       "      <td>Steven</td>\n",
       "      <td>Peet's Coffee</td>\n",
       "      <td>EJL Item</td>\n",
       "      <td>2315.4340</td>\n",
       "      <td>3405.05</td>\n",
       "    </tr>\n",
       "    <tr>\n",
       "      <th>1995</th>\n",
       "      <td>2006-06-15</td>\n",
       "      <td>North</td>\n",
       "      <td>Harry</td>\n",
       "      <td>Amazon.com</td>\n",
       "      <td>ZON Item</td>\n",
       "      <td>5406.2703</td>\n",
       "      <td>9163.17</td>\n",
       "    </tr>\n",
       "    <tr>\n",
       "      <th>1996</th>\n",
       "      <td>2006-06-15</td>\n",
       "      <td>East</td>\n",
       "      <td>Jon</td>\n",
       "      <td>Amazon.com</td>\n",
       "      <td>ZET Item</td>\n",
       "      <td>6971.4975</td>\n",
       "      <td>9295.33</td>\n",
       "    </tr>\n",
       "    <tr>\n",
       "      <th>1997</th>\n",
       "      <td>2006-06-15</td>\n",
       "      <td>North</td>\n",
       "      <td>Harry</td>\n",
       "      <td>Solar and Wind Inc.</td>\n",
       "      <td>JFA Item</td>\n",
       "      <td>736.2520</td>\n",
       "      <td>836.65</td>\n",
       "    </tr>\n",
       "    <tr>\n",
       "      <th>1998</th>\n",
       "      <td>2006-06-16</td>\n",
       "      <td>East</td>\n",
       "      <td>Jon</td>\n",
       "      <td>Google</td>\n",
       "      <td>QJV Item</td>\n",
       "      <td>1835.8972</td>\n",
       "      <td>3165.34</td>\n",
       "    </tr>\n",
       "  </tbody>\n",
       "</table>\n",
       "<p>1999 rows × 7 columns</p>\n",
       "</div>"
      ],
      "text/plain": [
       "           Date   Region Sales Rep             Customer   Product       COGS  \\\n",
       "0    2004-06-17  MidWest     Harry   ExcelIsVeryFun.com  MWN Item  6305.0008   \n",
       "1    2004-06-17     East     Harry         Office Depot  MBP Item  5773.2000   \n",
       "2    2004-06-17    South     Harry   ExcelIsVeryFun.com  KVM Item  8271.4896   \n",
       "3    2004-06-17     West       Jon     Sherman Williams  UBU Item  4919.6028   \n",
       "4    2004-06-17    North     Harry          Whole Foods  HES Item  5838.1500   \n",
       "...         ...      ...       ...                  ...       ...        ...   \n",
       "1994 2006-06-14     East    Steven        Peet's Coffee  EJL Item  2315.4340   \n",
       "1995 2006-06-15    North     Harry           Amazon.com  ZON Item  5406.2703   \n",
       "1996 2006-06-15     East       Jon           Amazon.com  ZET Item  6971.4975   \n",
       "1997 2006-06-15    North     Harry  Solar and Wind Inc.  JFA Item   736.2520   \n",
       "1998 2006-06-16     East       Jon               Google  QJV Item  1835.8972   \n",
       "\n",
       "        Sales  \n",
       "0     9272.06  \n",
       "1     8490.00  \n",
       "2     9399.42  \n",
       "3     7234.71  \n",
       "4     7784.20  \n",
       "...       ...  \n",
       "1994  3405.05  \n",
       "1995  9163.17  \n",
       "1996  9295.33  \n",
       "1997   836.65  \n",
       "1998  3165.34  \n",
       "\n",
       "[1999 rows x 7 columns]"
      ]
     },
     "execution_count": 3,
     "metadata": {},
     "output_type": "execute_result"
    }
   ],
   "source": [
    "df"
   ]
  },
  {
   "cell_type": "code",
   "execution_count": 4,
   "id": "9f4486e8",
   "metadata": {},
   "outputs": [
    {
     "name": "stdout",
     "output_type": "stream",
     "text": [
      "<class 'pandas.core.frame.DataFrame'>\n",
      "RangeIndex: 1999 entries, 0 to 1998\n",
      "Data columns (total 7 columns):\n",
      " #   Column     Non-Null Count  Dtype         \n",
      "---  ------     --------------  -----         \n",
      " 0   Date       1999 non-null   datetime64[ns]\n",
      " 1   Region     1999 non-null   object        \n",
      " 2   Sales Rep  1999 non-null   object        \n",
      " 3   Customer   1999 non-null   object        \n",
      " 4   Product    1999 non-null   object        \n",
      " 5   COGS       1999 non-null   float64       \n",
      " 6   Sales      1999 non-null   float64       \n",
      "dtypes: datetime64[ns](1), float64(2), object(4)\n",
      "memory usage: 109.4+ KB\n"
     ]
    }
   ],
   "source": [
    "df.info()"
   ]
  },
  {
   "cell_type": "code",
   "execution_count": 5,
   "id": "13b5b930",
   "metadata": {},
   "outputs": [
    {
     "data": {
      "text/html": [
       "<div>\n",
       "<style scoped>\n",
       "    .dataframe tbody tr th:only-of-type {\n",
       "        vertical-align: middle;\n",
       "    }\n",
       "\n",
       "    .dataframe tbody tr th {\n",
       "        vertical-align: top;\n",
       "    }\n",
       "\n",
       "    .dataframe thead th {\n",
       "        text-align: right;\n",
       "    }\n",
       "</style>\n",
       "<table border=\"1\" class=\"dataframe\">\n",
       "  <thead>\n",
       "    <tr style=\"text-align: right;\">\n",
       "      <th></th>\n",
       "      <th>Region</th>\n",
       "      <th>Sales Rep</th>\n",
       "      <th>Customer</th>\n",
       "      <th>Product</th>\n",
       "    </tr>\n",
       "  </thead>\n",
       "  <tbody>\n",
       "    <tr>\n",
       "      <th>count</th>\n",
       "      <td>1999</td>\n",
       "      <td>1999</td>\n",
       "      <td>1999</td>\n",
       "      <td>1999</td>\n",
       "    </tr>\n",
       "    <tr>\n",
       "      <th>unique</th>\n",
       "      <td>5</td>\n",
       "      <td>8</td>\n",
       "      <td>14</td>\n",
       "      <td>1882</td>\n",
       "    </tr>\n",
       "    <tr>\n",
       "      <th>top</th>\n",
       "      <td>East</td>\n",
       "      <td>Harry</td>\n",
       "      <td>Sherman Williams</td>\n",
       "      <td>RAR Item</td>\n",
       "    </tr>\n",
       "    <tr>\n",
       "      <th>freq</th>\n",
       "      <td>688</td>\n",
       "      <td>277</td>\n",
       "      <td>156</td>\n",
       "      <td>3</td>\n",
       "    </tr>\n",
       "  </tbody>\n",
       "</table>\n",
       "</div>"
      ],
      "text/plain": [
       "       Region Sales Rep          Customer   Product\n",
       "count    1999      1999              1999      1999\n",
       "unique      5         8                14      1882\n",
       "top      East     Harry  Sherman Williams  RAR Item\n",
       "freq      688       277               156         3"
      ]
     },
     "execution_count": 5,
     "metadata": {},
     "output_type": "execute_result"
    }
   ],
   "source": [
    "df.describe(include='O')"
   ]
  },
  {
   "cell_type": "code",
   "execution_count": 6,
   "id": "6d904714",
   "metadata": {},
   "outputs": [
    {
     "data": {
      "text/html": [
       "<div>\n",
       "<style scoped>\n",
       "    .dataframe tbody tr th:only-of-type {\n",
       "        vertical-align: middle;\n",
       "    }\n",
       "\n",
       "    .dataframe tbody tr th {\n",
       "        vertical-align: top;\n",
       "    }\n",
       "\n",
       "    .dataframe thead th {\n",
       "        text-align: right;\n",
       "    }\n",
       "</style>\n",
       "<table border=\"1\" class=\"dataframe\">\n",
       "  <thead>\n",
       "    <tr style=\"text-align: right;\">\n",
       "      <th></th>\n",
       "      <th>COGS</th>\n",
       "      <th>Sales</th>\n",
       "    </tr>\n",
       "  </thead>\n",
       "  <tbody>\n",
       "    <tr>\n",
       "      <th>count</th>\n",
       "      <td>1999.000000</td>\n",
       "      <td>1999.000000</td>\n",
       "    </tr>\n",
       "    <tr>\n",
       "      <th>mean</th>\n",
       "      <td>3148.949353</td>\n",
       "      <td>5041.272721</td>\n",
       "    </tr>\n",
       "    <tr>\n",
       "      <th>std</th>\n",
       "      <td>2057.604330</td>\n",
       "      <td>2875.600841</td>\n",
       "    </tr>\n",
       "    <tr>\n",
       "      <th>min</th>\n",
       "      <td>7.410400</td>\n",
       "      <td>12.560000</td>\n",
       "    </tr>\n",
       "    <tr>\n",
       "      <th>25%</th>\n",
       "      <td>1456.424750</td>\n",
       "      <td>2557.620000</td>\n",
       "    </tr>\n",
       "    <tr>\n",
       "      <th>50%</th>\n",
       "      <td>2963.233800</td>\n",
       "      <td>4976.420000</td>\n",
       "    </tr>\n",
       "    <tr>\n",
       "      <th>75%</th>\n",
       "      <td>4456.441000</td>\n",
       "      <td>7526.840000</td>\n",
       "    </tr>\n",
       "    <tr>\n",
       "      <th>max</th>\n",
       "      <td>9318.958000</td>\n",
       "      <td>9994.240000</td>\n",
       "    </tr>\n",
       "  </tbody>\n",
       "</table>\n",
       "</div>"
      ],
      "text/plain": [
       "              COGS        Sales\n",
       "count  1999.000000  1999.000000\n",
       "mean   3148.949353  5041.272721\n",
       "std    2057.604330  2875.600841\n",
       "min       7.410400    12.560000\n",
       "25%    1456.424750  2557.620000\n",
       "50%    2963.233800  4976.420000\n",
       "75%    4456.441000  7526.840000\n",
       "max    9318.958000  9994.240000"
      ]
     },
     "execution_count": 6,
     "metadata": {},
     "output_type": "execute_result"
    }
   ],
   "source": [
    "df.describe()"
   ]
  },
  {
   "cell_type": "code",
   "execution_count": 7,
   "id": "f1c65fdd",
   "metadata": {},
   "outputs": [
    {
     "data": {
      "text/plain": [
       "0"
      ]
     },
     "execution_count": 7,
     "metadata": {},
     "output_type": "execute_result"
    }
   ],
   "source": [
    "df.duplicated().sum()"
   ]
  },
  {
   "cell_type": "code",
   "execution_count": 8,
   "id": "abe9d0f2",
   "metadata": {},
   "outputs": [
    {
     "data": {
      "text/plain": [
       "Region\n",
       "East       3426489.59\n",
       "MidWest    1651501.56\n",
       "North      1723421.38\n",
       "South      1706418.14\n",
       "West       1569673.50\n",
       "Name: Sales, dtype: float64"
      ]
     },
     "execution_count": 8,
     "metadata": {},
     "output_type": "execute_result"
    }
   ],
   "source": [
    "df.groupby(\"Region\").Sales.sum()"
   ]
  },
  {
   "cell_type": "code",
   "execution_count": 51,
   "id": "6c9a7d27",
   "metadata": {},
   "outputs": [
    {
     "name": "stderr",
     "output_type": "stream",
     "text": [
      "C:\\Users\\admin\\AppData\\Local\\Temp\\ipykernel_3916\\1828492768.py:1: FutureWarning: Indexing with multiple keys (implicitly converted to a tuple of keys) will be deprecated, use a list instead.\n",
      "  df.groupby([\"Region\"])['Sales','COGS'].count()\n"
     ]
    },
    {
     "data": {
      "text/html": [
       "<div>\n",
       "<style scoped>\n",
       "    .dataframe tbody tr th:only-of-type {\n",
       "        vertical-align: middle;\n",
       "    }\n",
       "\n",
       "    .dataframe tbody tr th {\n",
       "        vertical-align: top;\n",
       "    }\n",
       "\n",
       "    .dataframe thead th {\n",
       "        text-align: right;\n",
       "    }\n",
       "</style>\n",
       "<table border=\"1\" class=\"dataframe\">\n",
       "  <thead>\n",
       "    <tr style=\"text-align: right;\">\n",
       "      <th></th>\n",
       "      <th>Sales</th>\n",
       "      <th>COGS</th>\n",
       "    </tr>\n",
       "    <tr>\n",
       "      <th>Region</th>\n",
       "      <th></th>\n",
       "      <th></th>\n",
       "    </tr>\n",
       "  </thead>\n",
       "  <tbody>\n",
       "    <tr>\n",
       "      <th>East</th>\n",
       "      <td>688</td>\n",
       "      <td>688</td>\n",
       "    </tr>\n",
       "    <tr>\n",
       "      <th>MidWest</th>\n",
       "      <td>314</td>\n",
       "      <td>314</td>\n",
       "    </tr>\n",
       "    <tr>\n",
       "      <th>North</th>\n",
       "      <td>342</td>\n",
       "      <td>342</td>\n",
       "    </tr>\n",
       "    <tr>\n",
       "      <th>South</th>\n",
       "      <td>335</td>\n",
       "      <td>335</td>\n",
       "    </tr>\n",
       "    <tr>\n",
       "      <th>West</th>\n",
       "      <td>320</td>\n",
       "      <td>320</td>\n",
       "    </tr>\n",
       "  </tbody>\n",
       "</table>\n",
       "</div>"
      ],
      "text/plain": [
       "         Sales  COGS\n",
       "Region              \n",
       "East       688   688\n",
       "MidWest    314   314\n",
       "North      342   342\n",
       "South      335   335\n",
       "West       320   320"
      ]
     },
     "execution_count": 51,
     "metadata": {},
     "output_type": "execute_result"
    }
   ],
   "source": [
    "df.groupby([\"Region\"])['Sales','COGS'].count()"
   ]
  },
  {
   "cell_type": "code",
   "execution_count": 54,
   "id": "0c307941",
   "metadata": {},
   "outputs": [
    {
     "name": "stderr",
     "output_type": "stream",
     "text": [
      "C:\\Users\\admin\\AppData\\Local\\Temp\\ipykernel_3916\\395267235.py:1: FutureWarning: Indexing with multiple keys (implicitly converted to a tuple of keys) will be deprecated, use a list instead.\n",
      "  df.groupby([\"Region\"])['Sales','COGS'].mean()\n"
     ]
    },
    {
     "data": {
      "text/html": [
       "<div>\n",
       "<style scoped>\n",
       "    .dataframe tbody tr th:only-of-type {\n",
       "        vertical-align: middle;\n",
       "    }\n",
       "\n",
       "    .dataframe tbody tr th {\n",
       "        vertical-align: top;\n",
       "    }\n",
       "\n",
       "    .dataframe thead th {\n",
       "        text-align: right;\n",
       "    }\n",
       "</style>\n",
       "<table border=\"1\" class=\"dataframe\">\n",
       "  <thead>\n",
       "    <tr style=\"text-align: right;\">\n",
       "      <th></th>\n",
       "      <th>Sales</th>\n",
       "      <th>COGS</th>\n",
       "    </tr>\n",
       "    <tr>\n",
       "      <th>Region</th>\n",
       "      <th></th>\n",
       "      <th></th>\n",
       "    </tr>\n",
       "  </thead>\n",
       "  <tbody>\n",
       "    <tr>\n",
       "      <th>East</th>\n",
       "      <td>4980.362776</td>\n",
       "      <td>3073.589504</td>\n",
       "    </tr>\n",
       "    <tr>\n",
       "      <th>MidWest</th>\n",
       "      <td>5259.559108</td>\n",
       "      <td>3390.568526</td>\n",
       "    </tr>\n",
       "    <tr>\n",
       "      <th>North</th>\n",
       "      <td>5039.243801</td>\n",
       "      <td>3109.908385</td>\n",
       "    </tr>\n",
       "    <tr>\n",
       "      <th>South</th>\n",
       "      <td>5093.785493</td>\n",
       "      <td>3116.845563</td>\n",
       "    </tr>\n",
       "    <tr>\n",
       "      <th>West</th>\n",
       "      <td>4905.229688</td>\n",
       "      <td>3149.217907</td>\n",
       "    </tr>\n",
       "  </tbody>\n",
       "</table>\n",
       "</div>"
      ],
      "text/plain": [
       "               Sales         COGS\n",
       "Region                           \n",
       "East     4980.362776  3073.589504\n",
       "MidWest  5259.559108  3390.568526\n",
       "North    5039.243801  3109.908385\n",
       "South    5093.785493  3116.845563\n",
       "West     4905.229688  3149.217907"
      ]
     },
     "execution_count": 54,
     "metadata": {},
     "output_type": "execute_result"
    }
   ],
   "source": [
    "df.groupby([\"Region\"])['Sales','COGS'].()"
   ]
  },
  {
   "cell_type": "code",
   "execution_count": 57,
   "id": "e33d91c4",
   "metadata": {},
   "outputs": [
    {
     "data": {
      "text/plain": [
       "Region   Sales Rep\n",
       "East     Harry        5291.75\n",
       "         James        4820.84\n",
       "         Jon          4524.26\n",
       "         Luke         4909.05\n",
       "         Rhonda       5026.00\n",
       "         Sherry       5475.47\n",
       "         Steven       4863.30\n",
       "         Tom          4814.02\n",
       "MidWest  Harry        5060.97\n",
       "         James        4603.66\n",
       "         Jon          5794.47\n",
       "         Luke         6036.71\n",
       "         Rhonda       4821.38\n",
       "         Sherry       5299.01\n",
       "         Steven       4881.61\n",
       "         Tom          5817.45\n",
       "North    Harry        5321.18\n",
       "         James        4503.66\n",
       "         Jon          5234.04\n",
       "         Luke         4957.15\n",
       "         Rhonda       4915.80\n",
       "         Sherry       4614.01\n",
       "         Steven       5683.27\n",
       "         Tom          5067.62\n",
       "South    Harry        5055.53\n",
       "         James        5476.92\n",
       "         Jon          5503.68\n",
       "         Luke         5133.88\n",
       "         Rhonda       5035.07\n",
       "         Sherry       4714.17\n",
       "         Steven       5121.23\n",
       "         Tom          4744.38\n",
       "West     Harry        4363.89\n",
       "         James        5192.33\n",
       "         Jon          4690.80\n",
       "         Luke         4668.82\n",
       "         Rhonda       5293.77\n",
       "         Sherry       5100.27\n",
       "         Steven       5561.42\n",
       "         Tom          4376.98\n",
       "Name: Sales, dtype: float64"
      ]
     },
     "execution_count": 57,
     "metadata": {},
     "output_type": "execute_result"
    }
   ],
   "source": [
    "df.groupby(['Region','Sales Rep'])['Sales'].mean().round(2)"
   ]
  },
  {
   "cell_type": "code",
   "execution_count": 75,
   "id": "f5cb34b4",
   "metadata": {},
   "outputs": [],
   "source": [
    "grp=df.groupby(['Region','Sales Rep'])['Sales'].sum().reset_index()"
   ]
  },
  {
   "cell_type": "code",
   "execution_count": 76,
   "id": "6f7e786a",
   "metadata": {
    "scrolled": true
   },
   "outputs": [
    {
     "data": {
      "text/plain": [
       "<AxesSubplot:xlabel='Sales Rep', ylabel='Sales'>"
      ]
     },
     "execution_count": 76,
     "metadata": {},
     "output_type": "execute_result"
    },
    {
     "data": {
      "image/png": "[encoded data removed]",
      "text/plain": [
       "<Figure size 640x480 with 1 Axes>"
      ]
     },
     "metadata": {},
     "output_type": "display_data"
    }
   ],
   "source": [
    "sns.barplot(x=\"Sales Rep\",y=\"Sales\",hue=\"Region\",data=grp)"
   ]
  },
  {
   "cell_type": "code",
   "execution_count": 77,
   "id": "343f446c",
   "metadata": {},
   "outputs": [],
   "source": [
    "srp=df.groupby(['Sales Rep'])['Sales'].sum().reset_index()"
   ]
  },
  {
   "cell_type": "code",
   "execution_count": 79,
   "id": "3e461d8e",
   "metadata": {},
   "outputs": [
    {
     "data": {
      "text/html": [
       "<div>\n",
       "<style scoped>\n",
       "    .dataframe tbody tr th:only-of-type {\n",
       "        vertical-align: middle;\n",
       "    }\n",
       "\n",
       "    .dataframe tbody tr th {\n",
       "        vertical-align: top;\n",
       "    }\n",
       "\n",
       "    .dataframe thead th {\n",
       "        text-align: right;\n",
       "    }\n",
       "</style>\n",
       "<table border=\"1\" class=\"dataframe\">\n",
       "  <thead>\n",
       "    <tr style=\"text-align: right;\">\n",
       "      <th></th>\n",
       "      <th>Sales Rep</th>\n",
       "      <th>Sales</th>\n",
       "    </tr>\n",
       "  </thead>\n",
       "  <tbody>\n",
       "    <tr>\n",
       "      <th>0</th>\n",
       "      <td>Harry</td>\n",
       "      <td>1409540.88</td>\n",
       "    </tr>\n",
       "    <tr>\n",
       "      <th>1</th>\n",
       "      <td>James</td>\n",
       "      <td>1312633.25</td>\n",
       "    </tr>\n",
       "    <tr>\n",
       "      <th>2</th>\n",
       "      <td>Jon</td>\n",
       "      <td>1276210.40</td>\n",
       "    </tr>\n",
       "    <tr>\n",
       "      <th>3</th>\n",
       "      <td>Luke</td>\n",
       "      <td>1182348.62</td>\n",
       "    </tr>\n",
       "    <tr>\n",
       "      <th>4</th>\n",
       "      <td>Rhonda</td>\n",
       "      <td>1103441.88</td>\n",
       "    </tr>\n",
       "    <tr>\n",
       "      <th>5</th>\n",
       "      <td>Sherry</td>\n",
       "      <td>1220931.66</td>\n",
       "    </tr>\n",
       "    <tr>\n",
       "      <th>6</th>\n",
       "      <td>Steven</td>\n",
       "      <td>1296157.22</td>\n",
       "    </tr>\n",
       "    <tr>\n",
       "      <th>7</th>\n",
       "      <td>Tom</td>\n",
       "      <td>1276240.26</td>\n",
       "    </tr>\n",
       "  </tbody>\n",
       "</table>\n",
       "</div>"
      ],
      "text/plain": [
       "  Sales Rep       Sales\n",
       "0     Harry  1409540.88\n",
       "1     James  1312633.25\n",
       "2       Jon  1276210.40\n",
       "3      Luke  1182348.62\n",
       "4    Rhonda  1103441.88\n",
       "5    Sherry  1220931.66\n",
       "6    Steven  1296157.22\n",
       "7       Tom  1276240.26"
      ]
     },
     "execution_count": 79,
     "metadata": {},
     "output_type": "execute_result"
    }
   ],
   "source": [
    "srp"
   ]
  },
  {
   "cell_type": "code",
   "execution_count": 78,
   "id": "87eae1a3",
   "metadata": {},
   "outputs": [
    {
     "data": {
      "text/plain": [
       "<AxesSubplot:xlabel='Sales Rep', ylabel='Sales'>"
      ]
     },
     "execution_count": 78,
     "metadata": {},
     "output_type": "execute_result"
    },
    {
     "data": {
      "image/png": "[encoded data removed]",
      "text/plain": [
       "<Figure size 640x480 with 1 Axes>"
      ]
     },
     "metadata": {},
     "output_type": "display_data"
    }
   ],
   "source": [
    "sns.barplot(x=\"Sales Rep\",y=\"Sales\",data=srp)"
   ]
  },
  {
   "cell_type": "code",
   "execution_count": 80,
   "id": "d3f9bb9e",
   "metadata": {},
   "outputs": [],
   "source": [
    "zrp=df.groupby(['Region'])['Sales'].sum().reset_index()"
   ]
  },
  {
   "cell_type": "code",
   "execution_count": 82,
   "id": "ed34ad6a",
   "metadata": {},
   "outputs": [
    {
     "data": {
      "text/html": [
       "<div>\n",
       "<style scoped>\n",
       "    .dataframe tbody tr th:only-of-type {\n",
       "        vertical-align: middle;\n",
       "    }\n",
       "\n",
       "    .dataframe tbody tr th {\n",
       "        vertical-align: top;\n",
       "    }\n",
       "\n",
       "    .dataframe thead th {\n",
       "        text-align: right;\n",
       "    }\n",
       "</style>\n",
       "<table border=\"1\" class=\"dataframe\">\n",
       "  <thead>\n",
       "    <tr style=\"text-align: right;\">\n",
       "      <th></th>\n",
       "      <th>Region</th>\n",
       "      <th>Sales</th>\n",
       "    </tr>\n",
       "  </thead>\n",
       "  <tbody>\n",
       "    <tr>\n",
       "      <th>0</th>\n",
       "      <td>East</td>\n",
       "      <td>3426489.59</td>\n",
       "    </tr>\n",
       "    <tr>\n",
       "      <th>1</th>\n",
       "      <td>MidWest</td>\n",
       "      <td>1651501.56</td>\n",
       "    </tr>\n",
       "    <tr>\n",
       "      <th>2</th>\n",
       "      <td>North</td>\n",
       "      <td>1723421.38</td>\n",
       "    </tr>\n",
       "    <tr>\n",
       "      <th>3</th>\n",
       "      <td>South</td>\n",
       "      <td>1706418.14</td>\n",
       "    </tr>\n",
       "    <tr>\n",
       "      <th>4</th>\n",
       "      <td>West</td>\n",
       "      <td>1569673.50</td>\n",
       "    </tr>\n",
       "  </tbody>\n",
       "</table>\n",
       "</div>"
      ],
      "text/plain": [
       "    Region       Sales\n",
       "0     East  3426489.59\n",
       "1  MidWest  1651501.56\n",
       "2    North  1723421.38\n",
       "3    South  1706418.14\n",
       "4     West  1569673.50"
      ]
     },
     "execution_count": 82,
     "metadata": {},
     "output_type": "execute_result"
    }
   ],
   "source": [
    "zrp"
   ]
  },
  {
   "cell_type": "code",
   "execution_count": 81,
   "id": "597fafd1",
   "metadata": {},
   "outputs": [
    {
     "data": {
      "text/plain": [
       "<AxesSubplot:xlabel='Region', ylabel='Sales'>"
      ]
     },
     "execution_count": 81,
     "metadata": {},
     "output_type": "execute_result"
    },
    {
     "data": {
      "image/png": "[encoded data removed]",
      "text/plain": [
       "<Figure size 640x480 with 1 Axes>"
      ]
     },
     "metadata": {},
     "output_type": "display_data"
    }
   ],
   "source": [
    "sns.barplot(x=\"Region\",y=\"Sales\",data=zrp)"
   ]
  },
  {
   "cell_type": "code",
   "execution_count": null,
   "id": "ee8b4c09",
   "metadata": {},
   "outputs": [],
   "source": []
  }
 ],
 "metadata": {
  "kernelspec": {
   "display_name": "Python 3 (ipykernel)",
   "language": "python",
   "name": "python3"
  },
  "language_info": {
   "codemirror_mode": {
    "name": "ipython",
    "version": 3
   },
   "file_extension": ".py",
   "mimetype": "text/x-python",
   "name": "python",
   "nbconvert_exporter": "python",
   "pygments_lexer": "ipython3",
   "version": "3.9.13"
  }
 },
 "nbformat": 4,
 "nbformat_minor": 5
}
